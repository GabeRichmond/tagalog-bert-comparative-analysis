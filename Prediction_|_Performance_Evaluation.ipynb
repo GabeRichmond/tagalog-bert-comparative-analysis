{
  "cells": [
    {
      "cell_type": "markdown",
      "metadata": {
        "id": "view-in-github",
        "colab_type": "text"
      },
      "source": [
        "<a href=\"https://colab.research.google.com/github/GabeRichmond/tagalog-bert-comparative-analysis/blob/main/Prediction_%7C_Performance_Evaluation.ipynb\" target=\"_parent\"><img src=\"https://colab.research.google.com/assets/colab-badge.svg\" alt=\"Open In Colab\"/></a>"
      ]
    },
    {
      "cell_type": "markdown",
      "metadata": {
        "id": "wdz353PJoNsa"
      },
      "source": [
        "# Binary Text Classification with the Hate Speech Dataset\n",
        "## **Prediction / Performance Evaluation Notebook**\n",
        "\n",
        "*A Comparative Analysis of Quantized and Non-Quantized BERT Model Performance for the Low-Resource Tagalog Language through Binary Text Classification*\n",
        "\n",
        "Group NRS\n",
        "*   NGO, Gabriel Richmond R.\n",
        "*   REYES, Aramis Faye D.\n",
        "*   SANTIAGO, Spencer Ivan S."
      ]
    },
    {
      "cell_type": "code",
      "source": [
        "# Model Name\n",
        "model_name = 'jcblaise/bert-tagalog-base-uncased'\n",
        "\n",
        "# Enable/Disable Loading of Quantized Model\n",
        "quantized = True"
      ],
      "metadata": {
        "id": "o38XkzYHA5-v"
      },
      "execution_count": null,
      "outputs": []
    },
    {
      "cell_type": "markdown",
      "metadata": {
        "id": "a7F_xqQxoZj3"
      },
      "source": [
        "#### **Imports**"
      ]
    },
    {
      "cell_type": "code",
      "execution_count": null,
      "metadata": {
        "id": "1SfTN9oWod3b",
        "colab": {
          "base_uri": "https://localhost:8080/"
        },
        "outputId": "fb32d5ff-d9a9-4ed0-d983-04b0a2f075f9"
      },
      "outputs": [
        {
          "output_type": "stream",
          "name": "stdout",
          "text": [
            "Mounted at /content/drive/\n",
            "Requirement already satisfied: transformers in /usr/local/lib/python3.10/dist-packages (4.35.2)\n",
            "Requirement already satisfied: filelock in /usr/local/lib/python3.10/dist-packages (from transformers) (3.13.1)\n",
            "Requirement already satisfied: huggingface-hub<1.0,>=0.16.4 in /usr/local/lib/python3.10/dist-packages (from transformers) (0.19.4)\n",
            "Requirement already satisfied: numpy>=1.17 in /usr/local/lib/python3.10/dist-packages (from transformers) (1.23.5)\n",
            "Requirement already satisfied: packaging>=20.0 in /usr/local/lib/python3.10/dist-packages (from transformers) (23.2)\n",
            "Requirement already satisfied: pyyaml>=5.1 in /usr/local/lib/python3.10/dist-packages (from transformers) (6.0.1)\n",
            "Requirement already satisfied: regex!=2019.12.17 in /usr/local/lib/python3.10/dist-packages (from transformers) (2023.6.3)\n",
            "Requirement already satisfied: requests in /usr/local/lib/python3.10/dist-packages (from transformers) (2.31.0)\n",
            "Requirement already satisfied: tokenizers<0.19,>=0.14 in /usr/local/lib/python3.10/dist-packages (from transformers) (0.15.0)\n",
            "Requirement already satisfied: safetensors>=0.3.1 in /usr/local/lib/python3.10/dist-packages (from transformers) (0.4.0)\n",
            "Requirement already satisfied: tqdm>=4.27 in /usr/local/lib/python3.10/dist-packages (from transformers) (4.66.1)\n",
            "Requirement already satisfied: fsspec>=2023.5.0 in /usr/local/lib/python3.10/dist-packages (from huggingface-hub<1.0,>=0.16.4->transformers) (2023.6.0)\n",
            "Requirement already satisfied: typing-extensions>=3.7.4.3 in /usr/local/lib/python3.10/dist-packages (from huggingface-hub<1.0,>=0.16.4->transformers) (4.5.0)\n",
            "Requirement already satisfied: charset-normalizer<4,>=2 in /usr/local/lib/python3.10/dist-packages (from requests->transformers) (3.3.2)\n",
            "Requirement already satisfied: idna<4,>=2.5 in /usr/local/lib/python3.10/dist-packages (from requests->transformers) (3.4)\n",
            "Requirement already satisfied: urllib3<3,>=1.21.1 in /usr/local/lib/python3.10/dist-packages (from requests->transformers) (2.0.7)\n",
            "Requirement already satisfied: certifi>=2017.4.17 in /usr/local/lib/python3.10/dist-packages (from requests->transformers) (2023.7.22)\n"
          ]
        }
      ],
      "source": [
        "# Google Drive\n",
        "from google.colab import drive\n",
        "drive.mount('/content/drive/')\n",
        "\n",
        "# Huggingface Transformers\n",
        "!pip install transformers\n",
        "import transformers\n",
        "from transformers import BertModel\n",
        "\n",
        "# Matplotlib\n",
        "import matplotlib.pyplot as plt\n",
        "\n",
        "# NumPy\n",
        "import numpy as np\n",
        "\n",
        "# Pandas\n",
        "import pandas as pd\n",
        "\n",
        "# PyTorch\n",
        "import torch\n",
        "from torch import nn\n",
        "import torch.nn.functional as F\n",
        "from torch.utils.data import Dataset\n",
        "\n",
        "# Seaborn\n",
        "import seaborn as sns\n",
        "\n",
        "# Sklearn\n",
        "import sklearn\n",
        "from sklearn import metrics\n",
        "from sklearn.metrics import accuracy_score, classification_report, confusion_matrix\n",
        "\n",
        "# TQDM\n",
        "import tqdm\n",
        "from tqdm import tqdm, trange"
      ]
    },
    {
      "cell_type": "code",
      "execution_count": null,
      "metadata": {
        "id": "HiM4Dzqv0YJl"
      },
      "outputs": [],
      "source": [
        "## Suppress Warnings\n",
        "import warnings\n",
        "warnings.filterwarnings('ignore')\n",
        "pd.options.mode.chained_assignment = None"
      ]
    },
    {
      "cell_type": "markdown",
      "metadata": {
        "id": "MrCzRncprPsd"
      },
      "source": [
        "#### **Load DataLoader**"
      ]
    },
    {
      "cell_type": "code",
      "source": [
        "# Custom Dataset Class\n",
        "class TweetDataset(Dataset):\n",
        "\n",
        "      def __init__(self, tweets, targets, tokenizer, max_len):\n",
        "          self.tweets = tweets\n",
        "          self.targets = targets\n",
        "          self.tokenizer = tokenizer\n",
        "          self.max_len = max_len\n",
        "\n",
        "      def __len__(self):\n",
        "          return len(self.tweets)\n",
        "\n",
        "      def __getitem__(self, item):\n",
        "          tweet = str(self.tweets[item])\n",
        "          target = self.targets[item]\n",
        "\n",
        "          encoding = self.tokenizer.encode_plus(\n",
        "              tweet,\n",
        "              add_special_tokens = True,\n",
        "              max_length = self.max_len,\n",
        "              return_token_type_ids = False,\n",
        "              pad_to_max_length = True,\n",
        "              return_attention_mask = True,\n",
        "              return_tensors = 'pt',\n",
        "          )\n",
        "\n",
        "          return {\n",
        "              'tweet_text': tweet,\n",
        "              'input_ids': encoding['input_ids'].flatten(),\n",
        "              'attention_mask': encoding['attention_mask'].flatten(),\n",
        "              'targets': torch.tensor(target, dtype=torch.long)\n",
        "          }"
      ],
      "metadata": {
        "id": "yzgHDGOfZ9_v"
      },
      "execution_count": null,
      "outputs": []
    },
    {
      "cell_type": "code",
      "execution_count": null,
      "metadata": {
        "id": "AG7fhZbtetY5"
      },
      "outputs": [],
      "source": [
        "# Load DataLoaders\n",
        "\n",
        "# Benchmark Dataset Testing Set\n",
        "bd_test_dl = torch.load('/content/drive/MyDrive/BERT/hatespeech/dataloaders/test_dl.pt')\n",
        "\n",
        "# Researcher Testing Dataset\n",
        "rs_test_dl = torch.load('/content/drive/MyDrive/BERT/hatespeech22/test_dl.pt')"
      ]
    },
    {
      "cell_type": "markdown",
      "metadata": {
        "id": "r4nbHgMoJFfg"
      },
      "source": [
        "#### **Define Model and Classifier**"
      ]
    },
    {
      "cell_type": "code",
      "source": [
        "# Define Model\n",
        "bert_model = BertModel.from_pretrained(model_name, return_dict=False)"
      ],
      "metadata": {
        "id": "FsjRDRRwT4_3",
        "colab": {
          "base_uri": "https://localhost:8080/",
          "height": 81,
          "referenced_widgets": [
            "ae20966793824aa8b8206d829c51bac0",
            "6fad842402eb4a979bac70066a2e6241",
            "abfff01b612a4f8fbc5441c549ea5cd1",
            "735614d26c684fd781b8da0f693ec2d4",
            "816095fa97f644889ad47983625be043",
            "23823fb04d5143d2bb042764d823d7fa",
            "ac81029a73fa40a3936e815597dbf6b5",
            "dc97e4be0e1c418382e3d342cb462267",
            "c86b889b458b4f96b777285f464b465e",
            "d9ba5db4a296460ea9fd648a27a3463c",
            "89c2297fa6e44dde9a622f04842e13df",
            "babc3a9616694fcab14f7849d90fa00a",
            "e8085c576d23426681601588a07a8928",
            "173154d34bf741a7b9b036fd0d879f97",
            "17d63148ae754ce7ba3ec8224c72633f",
            "be869f26e3694f09b75371ce62491097",
            "c2f9476a191a483da54d2b8155ab1edb",
            "2e7fff1bbbf945fd937594a40941efb7",
            "83e9a88891f6479898b2ee38367b9db6",
            "4df0ec24ae6041d6afe710b14b7e3891",
            "cfdc4fe97baf42fba26ff7958abe6977",
            "90d0eddf513c4af891c88648052f007a"
          ]
        },
        "outputId": "ce1754f3-e77c-40f2-9944-89e9501a0edb"
      },
      "execution_count": null,
      "outputs": [
        {
          "output_type": "display_data",
          "data": {
            "text/plain": [
              "config.json:   0%|          | 0.00/624 [00:00<?, ?B/s]"
            ],
            "application/vnd.jupyter.widget-view+json": {
              "version_major": 2,
              "version_minor": 0,
              "model_id": "ae20966793824aa8b8206d829c51bac0"
            }
          },
          "metadata": {}
        },
        {
          "output_type": "display_data",
          "data": {
            "text/plain": [
              "pytorch_model.bin:   0%|          | 0.00/439M [00:00<?, ?B/s]"
            ],
            "application/vnd.jupyter.widget-view+json": {
              "version_major": 2,
              "version_minor": 0,
              "model_id": "babc3a9616694fcab14f7849d90fa00a"
            }
          },
          "metadata": {}
        }
      ]
    },
    {
      "cell_type": "code",
      "source": [
        "# Classifier Class\n",
        "class TextClassifier(nn.Module):\n",
        "\n",
        "    def __init__(self, n_classes):\n",
        "        super(TextClassifier, self).__init__()\n",
        "        self.bert = bert_model\n",
        "        self.drop = nn.Dropout(p=0.5)\n",
        "        self.out = nn.Linear(self.bert.config.hidden_size, n_classes)\n",
        "\n",
        "    def forward(self, input_ids, attention_mask):\n",
        "        _, pooled_output = self.bert(\n",
        "          input_ids = input_ids,\n",
        "          attention_mask = attention_mask\n",
        "        )\n",
        "\n",
        "        output = self.drop(pooled_output)\n",
        "        return self.out(output)"
      ],
      "metadata": {
        "id": "VJa53ZpQBotI"
      },
      "execution_count": null,
      "outputs": []
    },
    {
      "cell_type": "code",
      "source": [
        "# Insert Model into Device\n",
        "num_labels = 2\n",
        "\n",
        "device = torch.device(\"cuda\" if torch.cuda.is_available() else \"cpu\")\n",
        "\n",
        "model = TextClassifier(num_labels)\n",
        "model = model.to(device)"
      ],
      "metadata": {
        "id": "p2p1qXsbCXRh"
      },
      "execution_count": null,
      "outputs": []
    },
    {
      "cell_type": "code",
      "source": [
        "# Load Fine-Tuned Model\n",
        "\n",
        "# Non-Quantized\n",
        "if quantized == False:\n",
        "  loader = torch.load('/content/drive/MyDrive/BERT/hatespeech/models/hs_model.pt', map_location = torch.device('cpu'))\n",
        "  model.load_state_dict(loader['state_dict'])\n",
        "\n",
        "# Quantized\n",
        "else:\n",
        "  loader = torch.load('/content/drive/MyDrive/BERT/hatespeech/models/hs_model_dq.pt')\n",
        "  model.load_state_dict(loader['state_dict'], strict = False)"
      ],
      "metadata": {
        "id": "ZaJjVDq1kc79"
      },
      "execution_count": null,
      "outputs": []
    },
    {
      "cell_type": "markdown",
      "source": [
        "#### **Prediction**"
      ],
      "metadata": {
        "id": "lXMzNNYXnW4U"
      }
    },
    {
      "cell_type": "code",
      "source": [
        "# Prediction Function\n",
        "def get_predictions(model, data_loader):\n",
        "\n",
        "    model = model.eval()\n",
        "\n",
        "    tweet = []\n",
        "    actual_label = []\n",
        "    predicted_label = []\n",
        "    prediction_probs = []\n",
        "\n",
        "    with torch.no_grad():\n",
        "        for d in tqdm(data_loader):\n",
        "\n",
        "            tweets = d[\"tweet_text\"]\n",
        "            input_ids = d[\"input_ids\"]\n",
        "            attention_mask = d[\"attention_mask\"]\n",
        "            targets = d[\"targets\"]\n",
        "\n",
        "            outputs = model(input_ids = input_ids,\n",
        "                            attention_mask = attention_mask)\n",
        "\n",
        "            _, preds = torch.max(outputs, dim=1)\n",
        "\n",
        "            probs = F.softmax(outputs, dim=1)\n",
        "\n",
        "            tweet.extend(tweets)\n",
        "            actual_label.extend(targets)\n",
        "            predicted_label.extend(preds)\n",
        "            prediction_probs.extend(probs)\n",
        "\n",
        "\n",
        "    actual_label = torch.stack(actual_label).cpu()\n",
        "    predicted_label = torch.stack(predicted_label).cpu()\n",
        "    prediction_probs = torch.stack(prediction_probs).cpu()\n",
        "\n",
        "    return tweet, actual_label, predicted_label, prediction_probs"
      ],
      "metadata": {
        "id": "fXtzaHQ3xyWK"
      },
      "execution_count": null,
      "outputs": []
    },
    {
      "cell_type": "code",
      "source": [
        "# Create Predictions\n",
        "class_names = ['non-hate speech', 'hate speech']\n",
        "\n",
        "# Benchmark Dataset Testing Set\n",
        "print(\"= Prediction Started for Benchmark Dataset =\")\n",
        "bd_tweet, bd_actual, bd_pred, bd_pred_probs = get_predictions(model, bd_test_dl)\n",
        "\n",
        "# Researcher Testing Dataset\n",
        "print(\"\\n= Prediction Started for Researcher Dataset =\")\n",
        "rs_tweet, rs_actual, rs_pred, rs_pred_probs = get_predictions(model, rs_test_dl)"
      ],
      "metadata": {
        "id": "3K51G0U5x-bR",
        "colab": {
          "base_uri": "https://localhost:8080/"
        },
        "outputId": "033c2921-2752-4d42-d500-2a87ac33248a"
      },
      "execution_count": null,
      "outputs": [
        {
          "output_type": "stream",
          "name": "stdout",
          "text": [
            "= Prediction Started for Benchmark Dataset =\n"
          ]
        },
        {
          "output_type": "stream",
          "name": "stderr",
          "text": [
            "  0%|          | 0/192 [00:00<?, ?it/s]Truncation was not explicitly activated but `max_length` is provided a specific value, please use `truncation=True` to explicitly truncate examples to max length. Defaulting to 'longest_first' truncation strategy. If you encode pairs of sequences (GLUE-style) with the tokenizer you can select this strategy more precisely by providing a specific strategy to `truncation`.\n",
            "100%|██████████| 192/192 [11:54<00:00,  3.72s/it]\n"
          ]
        },
        {
          "output_type": "stream",
          "name": "stdout",
          "text": [
            "\n",
            "= Prediction Started for Researcher Dataset =\n"
          ]
        },
        {
          "output_type": "stream",
          "name": "stderr",
          "text": [
            "  0%|          | 0/106 [00:00<?, ?it/s]Truncation was not explicitly activated but `max_length` is provided a specific value, please use `truncation=True` to explicitly truncate examples to max length. Defaulting to 'longest_first' truncation strategy. If you encode pairs of sequences (GLUE-style) with the tokenizer you can select this strategy more precisely by providing a specific strategy to `truncation`.\n",
            "100%|██████████| 106/106 [06:42<00:00,  3.80s/it]\n"
          ]
        }
      ]
    },
    {
      "cell_type": "markdown",
      "source": [
        "##### **Non-Quantized**"
      ],
      "metadata": {
        "id": "a-HbGV6bERc2"
      }
    },
    {
      "cell_type": "markdown",
      "source": [
        "###### **Benchmark Dataset**"
      ],
      "metadata": {
        "id": "I8zEbdy5TrzA"
      }
    },
    {
      "cell_type": "code",
      "source": [
        "if quantized == False:\n",
        "  print(\"Accuracy: \", metrics.accuracy_score(bd_actual, bd_pred))\n",
        "  print(\"F1 score (Micro): \", metrics.f1_score(bd_actual, bd_pred, average = 'micro'))\n",
        "  print(\"F1 score (Macro):\", metrics.f1_score(bd_actual, bd_pred, average = 'macro'))\n",
        "  print(\"Hamming Loss: \", metrics.hamming_loss(bd_actual, bd_pred))\n",
        "  print(\"\\nClassification Report: \\n\", classification_report(bd_actual, bd_pred, target_names = class_names))\n",
        "  print(\"\\nMatthews Correlation Coefficient: \", metrics.matthews_corrcoef(bd_actual, bd_pred))"
      ],
      "metadata": {
        "id": "HqQCV6cRERAX",
        "colab": {
          "base_uri": "https://localhost:8080/"
        },
        "outputId": "a5ebc054-ec13-431e-defd-ae51e850314e"
      },
      "execution_count": null,
      "outputs": [
        {
          "output_type": "stream",
          "name": "stdout",
          "text": [
            "Accuracy:  0.7328319162851537\n",
            "F1 score (Micro):  0.7328319162851537\n",
            "F1 score (Macro): 0.728298652175847\n",
            "Hamming Loss:  0.2671680837148463\n",
            "\n",
            "Classification Report: \n",
            "                  precision    recall  f1-score   support\n",
            "\n",
            "non-hate speech       0.71      0.68      0.69      1358\n",
            "    hate speech       0.75      0.78      0.76      1700\n",
            "\n",
            "       accuracy                           0.73      3058\n",
            "      macro avg       0.73      0.73      0.73      3058\n",
            "   weighted avg       0.73      0.73      0.73      3058\n",
            "\n",
            "\n",
            "Matthews Correlation Coefficient:  0.45704714389787254\n"
          ]
        }
      ]
    },
    {
      "cell_type": "code",
      "source": [
        "if quantized == False:\n",
        "  def show_confusion_matrix(confusion_matrix):\n",
        "    hmap = sns.heatmap(confusion_matrix, annot = True, fmt = \"d\", cmap = \"Blues\")\n",
        "    hmap.yaxis.set_ticklabels(hmap.yaxis.get_ticklabels(), rotation = 0, ha = 'right')\n",
        "    hmap.xaxis.set_ticklabels(hmap.xaxis.get_ticklabels(), rotation = 30, ha = 'right')\n",
        "    plt.ylabel('Actual')\n",
        "    plt.xlabel('Predicted');\n",
        "\n",
        "  cm = confusion_matrix(bd_actual, bd_pred)\n",
        "\n",
        "  df_cm = pd.DataFrame(cm, index = class_names, columns = class_names)\n",
        "  show_confusion_matrix(df_cm)"
      ],
      "metadata": {
        "id": "geXsE_yPywfm",
        "colab": {
          "base_uri": "https://localhost:8080/",
          "height": 506
        },
        "outputId": "67009a2e-b842-45eb-bcf6-4afdfdc6c480"
      },
      "execution_count": null,
      "outputs": [
        {
          "output_type": "display_data",
          "data": {
            "text/plain": [
              "<Figure size 640x480 with 2 Axes>"
            ],
            "image/png": "[encoded data removed]"
          },
          "metadata": {}
        }
      ]
    },
    {
      "cell_type": "markdown",
      "source": [
        "###### **Researcher Dataset**"
      ],
      "metadata": {
        "id": "gEuCtJiQTvDn"
      }
    },
    {
      "cell_type": "code",
      "source": [
        "if quantized == False:\n",
        "  print(\"Accuracy: \", metrics.accuracy_score(rs_actual, rs_pred))\n",
        "  print(\"F1 score (Micro): \", metrics.f1_score(rs_actual, rs_pred, average = 'micro'))\n",
        "  print(\"F1 score (Macro):\", metrics.f1_score(rs_actual, rs_pred, average = 'macro'))\n",
        "  print(\"Hamming Loss: \", metrics.hamming_loss(rs_actual, rs_pred))\n",
        "  print(\"\\nClassification Report: \\n\", classification_report(rs_actual, rs_pred, target_names = class_names))\n",
        "  print(\"\\nMatthews Correlation Coefficient: \", metrics.matthews_corrcoef(rs_actual, rs_pred))"
      ],
      "metadata": {
        "id": "Uib8GPZFTvaX",
        "colab": {
          "base_uri": "https://localhost:8080/"
        },
        "outputId": "c19be192-a19f-4822-e696-611570632252"
      },
      "execution_count": null,
      "outputs": [
        {
          "output_type": "stream",
          "name": "stdout",
          "text": [
            "Accuracy:  0.6314858490566038\n",
            "F1 score (Micro):  0.6314858490566038\n",
            "F1 score (Macro): 0.6105757343861995\n",
            "Hamming Loss:  0.36851415094339623\n",
            "\n",
            "Classification Report: \n",
            "                  precision    recall  f1-score   support\n",
            "\n",
            "non-hate speech       0.83      0.61      0.70      1208\n",
            "    hate speech       0.42      0.69      0.52       488\n",
            "\n",
            "       accuracy                           0.63      1696\n",
            "      macro avg       0.62      0.65      0.61      1696\n",
            "   weighted avg       0.71      0.63      0.65      1696\n",
            "\n",
            "\n",
            "Matthews Correlation Coefficient:  0.27240332087773933\n"
          ]
        }
      ]
    },
    {
      "cell_type": "code",
      "source": [
        "if quantized == False:\n",
        "  def show_confusion_matrix(confusion_matrix):\n",
        "    hmap = sns.heatmap(confusion_matrix, annot = True, fmt = \"d\", cmap = \"Reds\")\n",
        "    hmap.yaxis.set_ticklabels(hmap.yaxis.get_ticklabels(), rotation = 0, ha = 'right')\n",
        "    hmap.xaxis.set_ticklabels(hmap.xaxis.get_ticklabels(), rotation = 30, ha = 'right')\n",
        "    plt.ylabel('Actual')\n",
        "    plt.xlabel('Predicted');\n",
        "\n",
        "  cm = confusion_matrix(rs_actual, rs_pred)\n",
        "\n",
        "  df_cm = pd.DataFrame(cm, index = class_names, columns = class_names)\n",
        "  show_confusion_matrix(df_cm)"
      ],
      "metadata": {
        "id": "ZXl9vQ9OznqT",
        "colab": {
          "base_uri": "https://localhost:8080/",
          "height": 506
        },
        "outputId": "9ea371da-de85-48dd-e921-6b6493a1c412"
      },
      "execution_count": null,
      "outputs": [
        {
          "output_type": "display_data",
          "data": {
            "text/plain": [
              "<Figure size 640x480 with 2 Axes>"
            ],
            "image/png": "[encoded data removed]"
          },
          "metadata": {}
        }
      ]
    },
    {
      "cell_type": "markdown",
      "source": [
        "##### **Quantized**"
      ],
      "metadata": {
        "id": "Hncf9n4SEXkX"
      }
    },
    {
      "cell_type": "markdown",
      "source": [
        "###### **Benchmark Dataset**"
      ],
      "metadata": {
        "id": "P8DiUOy7Ty0X"
      }
    },
    {
      "cell_type": "code",
      "source": [
        "if quantized == True:\n",
        "  print(\"Accuracy: \", metrics.accuracy_score(bd_actual, bd_pred))\n",
        "  print(\"F1 score (Micro): \", metrics.f1_score(bd_actual, bd_pred, average = 'micro'))\n",
        "  print(\"F1 score (Macro):\", metrics.f1_score(bd_actual, bd_pred, average = 'macro'))\n",
        "  print(\"Hamming Loss: \", metrics.hamming_loss(bd_actual, bd_pred))\n",
        "  print(\"\\nClassification Report: \\n\", classification_report(bd_actual, bd_pred, target_names = class_names))\n",
        "  print(\"\\nMatthews Correlation Coefficient: \", metrics.matthews_corrcoef(bd_actual, bd_pred))"
      ],
      "metadata": {
        "id": "bLkm0ax6zjg0",
        "colab": {
          "base_uri": "https://localhost:8080/"
        },
        "outputId": "3067e7a7-bd89-4ba4-c36f-74cbb3038824"
      },
      "execution_count": null,
      "outputs": [
        {
          "output_type": "stream",
          "name": "stdout",
          "text": [
            "Accuracy:  0.5742315238718116\n",
            "F1 score (Micro):  0.5742315238718116\n",
            "F1 score (Macro): 0.4967345706758025\n",
            "Hamming Loss:  0.42576847612818836\n",
            "\n",
            "Classification Report: \n",
            "                  precision    recall  f1-score   support\n",
            "\n",
            "non-hate speech       0.56      0.20      0.30      1358\n",
            "    hate speech       0.58      0.87      0.69      1700\n",
            "\n",
            "       accuracy                           0.57      3058\n",
            "      macro avg       0.57      0.54      0.50      3058\n",
            "   weighted avg       0.57      0.57      0.52      3058\n",
            "\n"
          ]
        }
      ]
    },
    {
      "cell_type": "markdown",
      "source": [
        "Matthews Correlation Coefficient: 0.09959 (as computed by https://www.omnicalculator.com/statistics/matthews-correlation-coefficient)"
      ],
      "metadata": {
        "id": "NhZlqG7-aUxn"
      }
    },
    {
      "cell_type": "code",
      "source": [
        "if quantized == True:\n",
        "  def show_confusion_matrix(confusion_matrix):\n",
        "    hmap = sns.heatmap(confusion_matrix, annot = True, fmt = \"d\", cmap = \"Blues\")\n",
        "    hmap.yaxis.set_ticklabels(hmap.yaxis.get_ticklabels(), rotation = 0, ha = 'right')\n",
        "    hmap.xaxis.set_ticklabels(hmap.xaxis.get_ticklabels(), rotation = 30, ha = 'right')\n",
        "    plt.ylabel('Actual')\n",
        "    plt.xlabel('Predicted');\n",
        "\n",
        "  cm = confusion_matrix(bd_actual, bd_pred)\n",
        "\n",
        "  df_cm = pd.DataFrame(cm, index = class_names, columns = class_names)\n",
        "  show_confusion_matrix(df_cm)"
      ],
      "metadata": {
        "id": "5g4RRGkE0UuN",
        "colab": {
          "base_uri": "https://localhost:8080/",
          "height": 506
        },
        "outputId": "8b450769-731b-4804-9990-68031f1187e7"
      },
      "execution_count": null,
      "outputs": [
        {
          "output_type": "display_data",
          "data": {
            "text/plain": [
              "<Figure size 640x480 with 2 Axes>"
            ],
            "image/png": "[encoded data removed]"
          },
          "metadata": {}
        }
      ]
    },
    {
      "cell_type": "markdown",
      "source": [
        "###### **Researcher Dataset**"
      ],
      "metadata": {
        "id": "0z2xyqUFTzf-"
      }
    },
    {
      "cell_type": "code",
      "source": [
        "if quantized == True:\n",
        "  print(\"Accuracy: \", metrics.accuracy_score(rs_actual, rs_pred))\n",
        "  print(\"F1 score (Micro): \", metrics.f1_score(rs_actual, rs_pred, average = 'micro'))\n",
        "  print(\"F1 score (Macro):\", metrics.f1_score(rs_actual, rs_pred, average = 'macro'))\n",
        "  print(\"Hamming Loss: \", metrics.hamming_loss(rs_actual, rs_pred))\n",
        "  print(\"\\nClassification Report: \\n\", classification_report(rs_actual, rs_pred, target_names = class_names))\n",
        "  print(\"\\nMatthews Correlation Coefficient: \", metrics.matthews_corrcoef(rs_actual, rs_pred))"
      ],
      "metadata": {
        "id": "U2Sije84zjDc",
        "colab": {
          "base_uri": "https://localhost:8080/"
        },
        "outputId": "ed34a216-2ceb-4366-9548-b2e6b1812fda"
      },
      "execution_count": null,
      "outputs": [
        {
          "output_type": "stream",
          "name": "stdout",
          "text": [
            "Accuracy:  0.3561320754716981\n",
            "F1 score (Micro):  0.35613207547169806\n",
            "F1 score (Macro): 0.33504810405814706\n",
            "Hamming Loss:  0.6438679245283019\n",
            "\n",
            "Classification Report: \n",
            "                  precision    recall  f1-score   support\n",
            "\n",
            "non-hate speech       0.81      0.12      0.22      1208\n",
            "    hate speech       0.30      0.93      0.45       488\n",
            "\n",
            "       accuracy                           0.36      1696\n",
            "      macro avg       0.56      0.53      0.34      1696\n",
            "   weighted avg       0.66      0.36      0.28      1696\n",
            "\n",
            "\n",
            "Matthews Correlation Coefficient:  0.07718838571165595\n"
          ]
        }
      ]
    },
    {
      "cell_type": "code",
      "source": [
        "if quantized == True:\n",
        "  def show_confusion_matrix(confusion_matrix):\n",
        "    hmap = sns.heatmap(confusion_matrix, annot = True, fmt = \"d\", cmap = \"Reds\")\n",
        "    hmap.yaxis.set_ticklabels(hmap.yaxis.get_ticklabels(), rotation = 0, ha = 'right')\n",
        "    hmap.xaxis.set_ticklabels(hmap.xaxis.get_ticklabels(), rotation = 30, ha = 'right')\n",
        "    plt.ylabel('Actual')\n",
        "    plt.xlabel('Predicted');\n",
        "\n",
        "  cm = confusion_matrix(rs_actual, rs_pred)\n",
        "\n",
        "  df_cm = pd.DataFrame(cm, index = class_names, columns = class_names)\n",
        "  show_confusion_matrix(df_cm)"
      ],
      "metadata": {
        "id": "JAQyI6l00Xak",
        "colab": {
          "base_uri": "https://localhost:8080/",
          "height": 506
        },
        "outputId": "0042c4ef-4d97-4e3a-e501-850759326648"
      },
      "execution_count": null,
      "outputs": [
        {
          "output_type": "display_data",
          "data": {
            "text/plain": [
              "<Figure size 640x480 with 2 Axes>"
            ],
            "image/png": "[encoded data removed]"
          },
          "metadata": {}
        }
      ]
    }
  ],
  "metadata": {
    "colab": {
      "provenance": [],
      "include_colab_link": true
    },
    "kernelspec": {
      "display_name": "Python 3",
      "name": "python3"
    },
    "language_info": {
      "name": "python"
    },
    "widgets": {
      "application/vnd.jupyter.widget-state+json": {
        "ae20966793824aa8b8206d829c51bac0": {
          "model_module": "@jupyter-widgets/controls",
          "model_name": "HBoxModel",
          "model_module_version": "1.5.0",
          "state": {
            "_dom_classes": [],
            "_model_module": "@jupyter-widgets/controls",
            "_model_module_version": "1.5.0",
            "_model_name": "HBoxModel",
            "_view_count": null,
            "_view_module": "@jupyter-widgets/controls",
            "_view_module_version": "1.5.0",
            "_view_name": "HBoxView",
            "box_style": "",
            "children": [
              "IPY_MODEL_6fad842402eb4a979bac70066a2e6241",
              "IPY_MODEL_abfff01b612a4f8fbc5441c549ea5cd1",
              "IPY_MODEL_735614d26c684fd781b8da0f693ec2d4"
            ],
            "layout": "IPY_MODEL_816095fa97f644889ad47983625be043"
          }
        },
        "6fad842402eb4a979bac70066a2e6241": {
          "model_module": "@jupyter-widgets/controls",
          "model_name": "HTMLModel",
          "model_module_version": "1.5.0",
          "state": {
            "_dom_classes": [],
            "_model_module": "@jupyter-widgets/controls",
            "_model_module_version": "1.5.0",
            "_model_name": "HTMLModel",
            "_view_count": null,
            "_view_module": "@jupyter-widgets/controls",
            "_view_module_version": "1.5.0",
            "_view_name": "HTMLView",
            "description": "",
            "description_tooltip": null,
            "layout": "IPY_MODEL_23823fb04d5143d2bb042764d823d7fa",
            "placeholder": "​",
            "style": "IPY_MODEL_ac81029a73fa40a3936e815597dbf6b5",
            "value": "config.json: 100%"
          }
        },
        "abfff01b612a4f8fbc5441c549ea5cd1": {
          "model_module": "@jupyter-widgets/controls",
          "model_name": "FloatProgressModel",
          "model_module_version": "1.5.0",
          "state": {
            "_dom_classes": [],
            "_model_module": "@jupyter-widgets/controls",
            "_model_module_version": "1.5.0",
            "_model_name": "FloatProgressModel",
            "_view_count": null,
            "_view_module": "@jupyter-widgets/controls",
            "_view_module_version": "1.5.0",
            "_view_name": "ProgressView",
            "bar_style": "success",
            "description": "",
            "description_tooltip": null,
            "layout": "IPY_MODEL_dc97e4be0e1c418382e3d342cb462267",
            "max": 624,
            "min": 0,
            "orientation": "horizontal",
            "style": "IPY_MODEL_c86b889b458b4f96b777285f464b465e",
            "value": 624
          }
        },
        "735614d26c684fd781b8da0f693ec2d4": {
          "model_module": "@jupyter-widgets/controls",
          "model_name": "HTMLModel",
          "model_module_version": "1.5.0",
          "state": {
            "_dom_classes": [],
            "_model_module": "@jupyter-widgets/controls",
            "_model_module_version": "1.5.0",
            "_model_name": "HTMLModel",
            "_view_count": null,
            "_view_module": "@jupyter-widgets/controls",
            "_view_module_version": "1.5.0",
            "_view_name": "HTMLView",
            "description": "",
            "description_tooltip": null,
            "layout": "IPY_MODEL_d9ba5db4a296460ea9fd648a27a3463c",
            "placeholder": "​",
            "style": "IPY_MODEL_89c2297fa6e44dde9a622f04842e13df",
            "value": " 624/624 [00:00&lt;00:00, 30.6kB/s]"
          }
        },
        "816095fa97f644889ad47983625be043": {
          "model_module": "@jupyter-widgets/base",
          "model_name": "LayoutModel",
          "model_module_version": "1.2.0",
          "state": {
            "_model_module": "@jupyter-widgets/base",
            "_model_module_version": "1.2.0",
            "_model_name": "LayoutModel",
            "_view_count": null,
            "_view_module": "@jupyter-widgets/base",
            "_view_module_version": "1.2.0",
            "_view_name": "LayoutView",
            "align_content": null,
            "align_items": null,
            "align_self": null,
            "border": null,
            "bottom": null,
            "display": null,
            "flex": null,
            "flex_flow": null,
            "grid_area": null,
            "grid_auto_columns": null,
            "grid_auto_flow": null,
            "grid_auto_rows": null,
            "grid_column": null,
            "grid_gap": null,
            "grid_row": null,
            "grid_template_areas": null,
            "grid_template_columns": null,
            "grid_template_rows": null,
            "height": null,
            "justify_content": null,
            "justify_items": null,
            "left": null,
            "margin": null,
            "max_height": null,
            "max_width": null,
            "min_height": null,
            "min_width": null,
            "object_fit": null,
            "object_position": null,
            "order": null,
            "overflow": null,
            "overflow_x": null,
            "overflow_y": null,
            "padding": null,
            "right": null,
            "top": null,
            "visibility": null,
            "width": null
          }
        },
        "23823fb04d5143d2bb042764d823d7fa": {
          "model_module": "@jupyter-widgets/base",
          "model_name": "LayoutModel",
          "model_module_version": "1.2.0",
          "state": {
            "_model_module": "@jupyter-widgets/base",
            "_model_module_version": "1.2.0",
            "_model_name": "LayoutModel",
            "_view_count": null,
            "_view_module": "@jupyter-widgets/base",
            "_view_module_version": "1.2.0",
            "_view_name": "LayoutView",
            "align_content": null,
            "align_items": null,
            "align_self": null,
            "border": null,
            "bottom": null,
            "display": null,
            "flex": null,
            "flex_flow": null,
            "grid_area": null,
            "grid_auto_columns": null,
            "grid_auto_flow": null,
            "grid_auto_rows": null,
            "grid_column": null,
            "grid_gap": null,
            "grid_row": null,
            "grid_template_areas": null,
            "grid_template_columns": null,
            "grid_template_rows": null,
            "height": null,
            "justify_content": null,
            "justify_items": null,
            "left": null,
            "margin": null,
            "max_height": null,
            "max_width": null,
            "min_height": null,
            "min_width": null,
            "object_fit": null,
            "object_position": null,
            "order": null,
            "overflow": null,
            "overflow_x": null,
            "overflow_y": null,
            "padding": null,
            "right": null,
            "top": null,
            "visibility": null,
            "width": null
          }
        },
        "ac81029a73fa40a3936e815597dbf6b5": {
          "model_module": "@jupyter-widgets/controls",
          "model_name": "DescriptionStyleModel",
          "model_module_version": "1.5.0",
          "state": {
            "_model_module": "@jupyter-widgets/controls",
            "_model_module_version": "1.5.0",
            "_model_name": "DescriptionStyleModel",
            "_view_count": null,
            "_view_module": "@jupyter-widgets/base",
            "_view_module_version": "1.2.0",
            "_view_name": "StyleView",
            "description_width": ""
          }
        },
        "dc97e4be0e1c418382e3d342cb462267": {
          "model_module": "@jupyter-widgets/base",
          "model_name": "LayoutModel",
          "model_module_version": "1.2.0",
          "state": {
            "_model_module": "@jupyter-widgets/base",
            "_model_module_version": "1.2.0",
            "_model_name": "LayoutModel",
            "_view_count": null,
            "_view_module": "@jupyter-widgets/base",
            "_view_module_version": "1.2.0",
            "_view_name": "LayoutView",
            "align_content": null,
            "align_items": null,
            "align_self": null,
            "border": null,
            "bottom": null,
            "display": null,
            "flex": null,
            "flex_flow": null,
            "grid_area": null,
            "grid_auto_columns": null,
            "grid_auto_flow": null,
            "grid_auto_rows": null,
            "grid_column": null,
            "grid_gap": null,
            "grid_row": null,
            "grid_template_areas": null,
            "grid_template_columns": null,
            "grid_template_rows": null,
            "height": null,
            "justify_content": null,
            "justify_items": null,
            "left": null,
            "margin": null,
            "max_height": null,
            "max_width": null,
            "min_height": null,
            "min_width": null,
            "object_fit": null,
            "object_position": null,
            "order": null,
            "overflow": null,
            "overflow_x": null,
            "overflow_y": null,
            "padding": null,
            "right": null,
            "top": null,
            "visibility": null,
            "width": null
          }
        },
        "c86b889b458b4f96b777285f464b465e": {
          "model_module": "@jupyter-widgets/controls",
          "model_name": "ProgressStyleModel",
          "model_module_version": "1.5.0",
          "state": {
            "_model_module": "@jupyter-widgets/controls",
            "_model_module_version": "1.5.0",
            "_model_name": "ProgressStyleModel",
            "_view_count": null,
            "_view_module": "@jupyter-widgets/base",
            "_view_module_version": "1.2.0",
            "_view_name": "StyleView",
            "bar_color": null,
            "description_width": ""
          }
        },
        "d9ba5db4a296460ea9fd648a27a3463c": {
          "model_module": "@jupyter-widgets/base",
          "model_name": "LayoutModel",
          "model_module_version": "1.2.0",
          "state": {
            "_model_module": "@jupyter-widgets/base",
            "_model_module_version": "1.2.0",
            "_model_name": "LayoutModel",
            "_view_count": null,
            "_view_module": "@jupyter-widgets/base",
            "_view_module_version": "1.2.0",
            "_view_name": "LayoutView",
            "align_content": null,
            "align_items": null,
            "align_self": null,
            "border": null,
            "bottom": null,
            "display": null,
            "flex": null,
            "flex_flow": null,
            "grid_area": null,
            "grid_auto_columns": null,
            "grid_auto_flow": null,
            "grid_auto_rows": null,
            "grid_column": null,
            "grid_gap": null,
            "grid_row": null,
            "grid_template_areas": null,
            "grid_template_columns": null,
            "grid_template_rows": null,
            "height": null,
            "justify_content": null,
            "justify_items": null,
            "left": null,
            "margin": null,
            "max_height": null,
            "max_width": null,
            "min_height": null,
            "min_width": null,
            "object_fit": null,
            "object_position": null,
            "order": null,
            "overflow": null,
            "overflow_x": null,
            "overflow_y": null,
            "padding": null,
            "right": null,
            "top": null,
            "visibility": null,
            "width": null
          }
        },
        "89c2297fa6e44dde9a622f04842e13df": {
          "model_module": "@jupyter-widgets/controls",
          "model_name": "DescriptionStyleModel",
          "model_module_version": "1.5.0",
          "state": {
            "_model_module": "@jupyter-widgets/controls",
            "_model_module_version": "1.5.0",
            "_model_name": "DescriptionStyleModel",
            "_view_count": null,
            "_view_module": "@jupyter-widgets/base",
            "_view_module_version": "1.2.0",
            "_view_name": "StyleView",
            "description_width": ""
          }
        },
        "babc3a9616694fcab14f7849d90fa00a": {
          "model_module": "@jupyter-widgets/controls",
          "model_name": "HBoxModel",
          "model_module_version": "1.5.0",
          "state": {
            "_dom_classes": [],
            "_model_module": "@jupyter-widgets/controls",
            "_model_module_version": "1.5.0",
            "_model_name": "HBoxModel",
            "_view_count": null,
            "_view_module": "@jupyter-widgets/controls",
            "_view_module_version": "1.5.0",
            "_view_name": "HBoxView",
            "box_style": "",
            "children": [
              "IPY_MODEL_e8085c576d23426681601588a07a8928",
              "IPY_MODEL_173154d34bf741a7b9b036fd0d879f97",
              "IPY_MODEL_17d63148ae754ce7ba3ec8224c72633f"
            ],
            "layout": "IPY_MODEL_be869f26e3694f09b75371ce62491097"
          }
        },
        "e8085c576d23426681601588a07a8928": {
          "model_module": "@jupyter-widgets/controls",
          "model_name": "HTMLModel",
          "model_module_version": "1.5.0",
          "state": {
            "_dom_classes": [],
            "_model_module": "@jupyter-widgets/controls",
            "_model_module_version": "1.5.0",
            "_model_name": "HTMLModel",
            "_view_count": null,
            "_view_module": "@jupyter-widgets/controls",
            "_view_module_version": "1.5.0",
            "_view_name": "HTMLView",
            "description": "",
            "description_tooltip": null,
            "layout": "IPY_MODEL_c2f9476a191a483da54d2b8155ab1edb",
            "placeholder": "​",
            "style": "IPY_MODEL_2e7fff1bbbf945fd937594a40941efb7",
            "value": "pytorch_model.bin: 100%"
          }
        },
        "173154d34bf741a7b9b036fd0d879f97": {
          "model_module": "@jupyter-widgets/controls",
          "model_name": "FloatProgressModel",
          "model_module_version": "1.5.0",
          "state": {
            "_dom_classes": [],
            "_model_module": "@jupyter-widgets/controls",
            "_model_module_version": "1.5.0",
            "_model_name": "FloatProgressModel",
            "_view_count": null,
            "_view_module": "@jupyter-widgets/controls",
            "_view_module_version": "1.5.0",
            "_view_name": "ProgressView",
            "bar_style": "success",
            "description": "",
            "description_tooltip": null,
            "layout": "IPY_MODEL_83e9a88891f6479898b2ee38367b9db6",
            "max": 439179406,
            "min": 0,
            "orientation": "horizontal",
            "style": "IPY_MODEL_4df0ec24ae6041d6afe710b14b7e3891",
            "value": 439179406
          }
        },
        "17d63148ae754ce7ba3ec8224c72633f": {
          "model_module": "@jupyter-widgets/controls",
          "model_name": "HTMLModel",
          "model_module_version": "1.5.0",
          "state": {
            "_dom_classes": [],
            "_model_module": "@jupyter-widgets/controls",
            "_model_module_version": "1.5.0",
            "_model_name": "HTMLModel",
            "_view_count": null,
            "_view_module": "@jupyter-widgets/controls",
            "_view_module_version": "1.5.0",
            "_view_name": "HTMLView",
            "description": "",
            "description_tooltip": null,
            "layout": "IPY_MODEL_cfdc4fe97baf42fba26ff7958abe6977",
            "placeholder": "​",
            "style": "IPY_MODEL_90d0eddf513c4af891c88648052f007a",
            "value": " 439M/439M [00:19&lt;00:00, 21.0MB/s]"
          }
        },
        "be869f26e3694f09b75371ce62491097": {
          "model_module": "@jupyter-widgets/base",
          "model_name": "LayoutModel",
          "model_module_version": "1.2.0",
          "state": {
            "_model_module": "@jupyter-widgets/base",
            "_model_module_version": "1.2.0",
            "_model_name": "LayoutModel",
            "_view_count": null,
            "_view_module": "@jupyter-widgets/base",
            "_view_module_version": "1.2.0",
            "_view_name": "LayoutView",
            "align_content": null,
            "align_items": null,
            "align_self": null,
            "border": null,
            "bottom": null,
            "display": null,
            "flex": null,
            "flex_flow": null,
            "grid_area": null,
            "grid_auto_columns": null,
            "grid_auto_flow": null,
            "grid_auto_rows": null,
            "grid_column": null,
            "grid_gap": null,
            "grid_row": null,
            "grid_template_areas": null,
            "grid_template_columns": null,
            "grid_template_rows": null,
            "height": null,
            "justify_content": null,
            "justify_items": null,
            "left": null,
            "margin": null,
            "max_height": null,
            "max_width": null,
            "min_height": null,
            "min_width": null,
            "object_fit": null,
            "object_position": null,
            "order": null,
            "overflow": null,
            "overflow_x": null,
            "overflow_y": null,
            "padding": null,
            "right": null,
            "top": null,
            "visibility": null,
            "width": null
          }
        },
        "c2f9476a191a483da54d2b8155ab1edb": {
          "model_module": "@jupyter-widgets/base",
          "model_name": "LayoutModel",
          "model_module_version": "1.2.0",
          "state": {
            "_model_module": "@jupyter-widgets/base",
            "_model_module_version": "1.2.0",
            "_model_name": "LayoutModel",
            "_view_count": null,
            "_view_module": "@jupyter-widgets/base",
            "_view_module_version": "1.2.0",
            "_view_name": "LayoutView",
            "align_content": null,
            "align_items": null,
            "align_self": null,
            "border": null,
            "bottom": null,
            "display": null,
            "flex": null,
            "flex_flow": null,
            "grid_area": null,
            "grid_auto_columns": null,
            "grid_auto_flow": null,
            "grid_auto_rows": null,
            "grid_column": null,
            "grid_gap": null,
            "grid_row": null,
            "grid_template_areas": null,
            "grid_template_columns": null,
            "grid_template_rows": null,
            "height": null,
            "justify_content": null,
            "justify_items": null,
            "left": null,
            "margin": null,
            "max_height": null,
            "max_width": null,
            "min_height": null,
            "min_width": null,
            "object_fit": null,
            "object_position": null,
            "order": null,
            "overflow": null,
            "overflow_x": null,
            "overflow_y": null,
            "padding": null,
            "right": null,
            "top": null,
            "visibility": null,
            "width": null
          }
        },
        "2e7fff1bbbf945fd937594a40941efb7": {
          "model_module": "@jupyter-widgets/controls",
          "model_name": "DescriptionStyleModel",
          "model_module_version": "1.5.0",
          "state": {
            "_model_module": "@jupyter-widgets/controls",
            "_model_module_version": "1.5.0",
            "_model_name": "DescriptionStyleModel",
            "_view_count": null,
            "_view_module": "@jupyter-widgets/base",
            "_view_module_version": "1.2.0",
            "_view_name": "StyleView",
            "description_width": ""
          }
        },
        "83e9a88891f6479898b2ee38367b9db6": {
          "model_module": "@jupyter-widgets/base",
          "model_name": "LayoutModel",
          "model_module_version": "1.2.0",
          "state": {
            "_model_module": "@jupyter-widgets/base",
            "_model_module_version": "1.2.0",
            "_model_name": "LayoutModel",
            "_view_count": null,
            "_view_module": "@jupyter-widgets/base",
            "_view_module_version": "1.2.0",
            "_view_name": "LayoutView",
            "align_content": null,
            "align_items": null,
            "align_self": null,
            "border": null,
            "bottom": null,
            "display": null,
            "flex": null,
            "flex_flow": null,
            "grid_area": null,
            "grid_auto_columns": null,
            "grid_auto_flow": null,
            "grid_auto_rows": null,
            "grid_column": null,
            "grid_gap": null,
            "grid_row": null,
            "grid_template_areas": null,
            "grid_template_columns": null,
            "grid_template_rows": null,
            "height": null,
            "justify_content": null,
            "justify_items": null,
            "left": null,
            "margin": null,
            "max_height": null,
            "max_width": null,
            "min_height": null,
            "min_width": null,
            "object_fit": null,
            "object_position": null,
            "order": null,
            "overflow": null,
            "overflow_x": null,
            "overflow_y": null,
            "padding": null,
            "right": null,
            "top": null,
            "visibility": null,
            "width": null
          }
        },
        "4df0ec24ae6041d6afe710b14b7e3891": {
          "model_module": "@jupyter-widgets/controls",
          "model_name": "ProgressStyleModel",
          "model_module_version": "1.5.0",
          "state": {
            "_model_module": "@jupyter-widgets/controls",
            "_model_module_version": "1.5.0",
            "_model_name": "ProgressStyleModel",
            "_view_count": null,
            "_view_module": "@jupyter-widgets/base",
            "_view_module_version": "1.2.0",
            "_view_name": "StyleView",
            "bar_color": null,
            "description_width": ""
          }
        },
        "cfdc4fe97baf42fba26ff7958abe6977": {
          "model_module": "@jupyter-widgets/base",
          "model_name": "LayoutModel",
          "model_module_version": "1.2.0",
          "state": {
            "_model_module": "@jupyter-widgets/base",
            "_model_module_version": "1.2.0",
            "_model_name": "LayoutModel",
            "_view_count": null,
            "_view_module": "@jupyter-widgets/base",
            "_view_module_version": "1.2.0",
            "_view_name": "LayoutView",
            "align_content": null,
            "align_items": null,
            "align_self": null,
            "border": null,
            "bottom": null,
            "display": null,
            "flex": null,
            "flex_flow": null,
            "grid_area": null,
            "grid_auto_columns": null,
            "grid_auto_flow": null,
            "grid_auto_rows": null,
            "grid_column": null,
            "grid_gap": null,
            "grid_row": null,
            "grid_template_areas": null,
            "grid_template_columns": null,
            "grid_template_rows": null,
            "height": null,
            "justify_content": null,
            "justify_items": null,
            "left": null,
            "margin": null,
            "max_height": null,
            "max_width": null,
            "min_height": null,
            "min_width": null,
            "object_fit": null,
            "object_position": null,
            "order": null,
            "overflow": null,
            "overflow_x": null,
            "overflow_y": null,
            "padding": null,
            "right": null,
            "top": null,
            "visibility": null,
            "width": null
          }
        },
        "90d0eddf513c4af891c88648052f007a": {
          "model_module": "@jupyter-widgets/controls",
          "model_name": "DescriptionStyleModel",
          "model_module_version": "1.5.0",
          "state": {
            "_model_module": "@jupyter-widgets/controls",
            "_model_module_version": "1.5.0",
            "_model_name": "DescriptionStyleModel",
            "_view_count": null,
            "_view_module": "@jupyter-widgets/base",
            "_view_module_version": "1.2.0",
            "_view_name": "StyleView",
            "description_width": ""
          }
        }
      }
    }
  },
  "nbformat": 4,
  "nbformat_minor": 0
}